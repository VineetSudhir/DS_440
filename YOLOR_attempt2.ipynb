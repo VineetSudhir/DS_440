{
 "cells": [
  {
   "cell_type": "code",
   "execution_count": null,
   "metadata": {},
   "outputs": [],
   "source": []
  },
  {
   "cell_type": "code",
   "execution_count": 1,
   "metadata": {},
   "outputs": [
    {
     "name": "stdout",
     "output_type": "stream",
     "text": [
      "Cloning into 'yolor'...\n",
      "remote: Enumerating objects: 387, done.\u001b[K\n",
      "remote: Total 387 (delta 0), reused 0 (delta 0), pack-reused 387\u001b[K\n",
      "Receiving objects: 100% (387/387), 2.97 MiB | 0 bytes/s, done.\n",
      "Resolving deltas: 100% (173/173), done.\n"
     ]
    }
   ],
   "source": [
    "# clone YOLOR repository\n",
    "!git clone https://github.com/roboflow-ai/yolor"
   ]
  },
  {
   "cell_type": "code",
   "execution_count": 2,
   "metadata": {},
   "outputs": [
    {
     "name": "stdout",
     "output_type": "stream",
     "text": [
      "/storage/home/v/vas5260/DS_440_Capstone/volume/data/raw/Images/yolor\n",
      "HEAD is now at eb3ef0b indentation\n"
     ]
    }
   ],
   "source": [
    "%cd yolor\n",
    "!git reset --hard eb3ef0b7472413d6740f5cde39beb1a2f5b8b5d1"
   ]
  },
  {
   "cell_type": "code",
   "execution_count": 3,
   "metadata": {},
   "outputs": [],
   "source": [
    "# install dependencies as necessary\n",
    "!pip install -qr requirements.txt"
   ]
  },
  {
   "cell_type": "code",
   "execution_count": 4,
   "metadata": {},
   "outputs": [
    {
     "name": "stdout",
     "output_type": "stream",
     "text": [
      "Cloning into 'mish-cuda'...\n",
      "remote: Enumerating objects: 195, done.\u001b[K\n",
      "remote: Counting objects: 100% (88/88), done.\u001b[K\n",
      "remote: Compressing objects: 100% (75/75), done.\u001b[K\n",
      "remote: Total 195 (delta 7), reused 79 (delta 3), pack-reused 107\u001b[K\n",
      "Receiving objects: 100% (195/195), 208.77 KiB | 0 bytes/s, done.\n",
      "Resolving deltas: 100% (56/56), done.\n",
      "/storage/home/v/vas5260/DS_440_Capstone/volume/data/raw/Images/yolor/mish-cuda\n",
      "HEAD is now at 6f38976 Update README.md\n",
      "Traceback (most recent call last):\n",
      "  File \"setup.py\", line 21, in <module>\n",
      "    CUDAExtension('mish_cuda._C',\n",
      "  File \"/storage/home/vas5260/.local/lib/python3.8/site-packages/torch/utils/cpp_extension.py\", line 783, in CUDAExtension\n",
      "    library_dirs += library_paths(cuda=True)\n",
      "  File \"/storage/home/vas5260/.local/lib/python3.8/site-packages/torch/utils/cpp_extension.py\", line 875, in library_paths\n",
      "    if (not os.path.exists(_join_cuda_home(lib_dir)) and\n",
      "  File \"/storage/home/vas5260/.local/lib/python3.8/site-packages/torch/utils/cpp_extension.py\", line 1794, in _join_cuda_home\n",
      "    raise EnvironmentError('CUDA_HOME environment variable is not set. '\n",
      "OSError: CUDA_HOME environment variable is not set. Please set it to your CUDA install root.\n",
      "/storage/home/v/vas5260/DS_440_Capstone/volume/data/raw/Images/yolor\n"
     ]
    }
   ],
   "source": [
    "# Install Mish CUDA\n",
    "!git clone https://github.com/JunnYu/mish-cuda\n",
    "%cd mish-cuda\n",
    "!git reset --hard 6f38976064cbcc4782f4212d7c0c5f6dd5e315a8\n",
    "!python setup.py build install\n",
    "%cd .."
   ]
  },
  {
   "cell_type": "code",
   "execution_count": 5,
   "metadata": {},
   "outputs": [
    {
     "name": "stdout",
     "output_type": "stream",
     "text": [
      "Cloning into 'pytorch_wavelets'...\n",
      "remote: Enumerating objects: 972, done.\u001b[K\n",
      "remote: Counting objects: 100% (136/136), done.\u001b[K\n",
      "remote: Compressing objects: 100% (91/91), done.\u001b[K\n",
      "remote: Total 972 (delta 75), reused 89 (delta 45), pack-reused 836\u001b[K\n",
      "Receiving objects: 100% (972/972), 6.80 MiB | 0 bytes/s, done.\n",
      "Resolving deltas: 100% (659/659), done.\n",
      "Checking out files: 100% (121/121), done.\n",
      "/storage/home/v/vas5260/DS_440_Capstone/volume/data/raw/Images/yolor/pytorch_wavelets\n",
      "Defaulting to user installation because normal site-packages is not writeable\n",
      "Processing /storage/home/v/vas5260/DS_440_Capstone/volume/data/raw/Images/yolor/pytorch_wavelets\n",
      "Requirement already satisfied: numpy in /storage/home/v/vas5260/.local/lib/python3.8/site-packages (from pytorch-wavelets==1.3.0) (1.22.3)\n",
      "Requirement already satisfied: six in /opt/global/RedHat-7/production-20220107/sw/anaconda3/2020.07_gcc-4.8.5-bzb/lib/python3.8/site-packages (from pytorch-wavelets==1.3.0) (1.15.0)\n",
      "Requirement already satisfied: torch in /storage/home/v/vas5260/.local/lib/python3.8/site-packages (from pytorch-wavelets==1.3.0) (1.7.0)\n",
      "Requirement already satisfied: dataclasses in /storage/home/v/vas5260/.local/lib/python3.8/site-packages (from torch->pytorch-wavelets==1.3.0) (0.6)\n",
      "Requirement already satisfied: future in /opt/global/RedHat-7/production-20220107/sw/anaconda3/2020.07_gcc-4.8.5-bzb/lib/python3.8/site-packages (from torch->pytorch-wavelets==1.3.0) (0.18.2)\n",
      "Requirement already satisfied: typing-extensions in /opt/global/RedHat-7/production-20220107/sw/anaconda3/2020.07_gcc-4.8.5-bzb/lib/python3.8/site-packages (from torch->pytorch-wavelets==1.3.0) (3.7.4.2)\n",
      "Building wheels for collected packages: pytorch-wavelets\n",
      "  Building wheel for pytorch-wavelets (setup.py) ... \u001b[?25ldone\n",
      "\u001b[?25h  Created wheel for pytorch-wavelets: filename=pytorch_wavelets-1.3.0-py3-none-any.whl size=54855 sha256=44f3990346edb3ba668a34050fc67c199047307cbd6b0bad28f79865365f6630\n",
      "  Stored in directory: /tmp/pip-ephem-wheel-cache-taq258n1/wheels/f2/6f/50/bac820484f4702328e77a35124faa9d1a6bcfad60404a3b855\n",
      "Successfully built pytorch-wavelets\n",
      "Installing collected packages: pytorch-wavelets\n",
      "Successfully installed pytorch-wavelets-1.3.0\n",
      "/storage/home/v/vas5260/DS_440_Capstone/volume/data/raw/Images/yolor\n"
     ]
    }
   ],
   "source": [
    "# Install PyTorch Wavelets\n",
    "!git clone https://github.com/fbcotter/pytorch_wavelets\n",
    "%cd pytorch_wavelets\n",
    "!pip install .\n",
    "%cd .."
   ]
  },
  {
   "cell_type": "code",
   "execution_count": 1,
   "metadata": {},
   "outputs": [
    {
     "name": "stdout",
     "output_type": "stream",
     "text": [
      "[Errno 2] No such file or directory: '/content/'\n",
      "/storage/home/v/vas5260/DS_440_Capstone/volume/data/raw/Images\n",
      "curl: (3) bad range in URL position 33:\n",
      "https://public.roboflow.com/ds/[njmpOX3FTa6MPZtgEFiZ]\n",
      "                                ^\n",
      "Archive:  roboflow.zip\n",
      "  End-of-central-directory signature not found.  Either this file is not\n",
      "  a zipfile, or it constitutes one disk of a multi-part archive.  In the\n",
      "  latter case the central directory and zipfile comment will be found on\n",
      "  the last disk(s) of this archive.\n",
      "unzip:  cannot find zipfile directory in one of roboflow.zip or\n",
      "        roboflow.zip.zip, and cannot find roboflow.zip.ZIP, period.\n"
     ]
    }
   ],
   "source": [
    "%cd /content/\n",
    "!curl -L \"https://public.roboflow.com/ds/[njmpOX3FTa6MPZtgEFiZ]\" > roboflow.zip; unzip roboflow.zip; rm roboflow.zip\n"
   ]
  },
  {
   "cell_type": "code",
   "execution_count": 2,
   "metadata": {},
   "outputs": [
    {
     "name": "stdout",
     "output_type": "stream",
     "text": [
      "  % Total    % Received % Xferd  Average Speed   Time    Time     Time  Current\n",
      "                                 Dload  Upload   Total   Spent    Left  Speed\n",
      "100   888  100   888    0     0   1930      0 --:--:-- --:--:-- --:--:--  1926\n",
      "100 1655k  100 1655k    0     0  2239k      0 --:--:-- --:--:-- --:--:-- 2239k\n",
      "Archive:  roboflow.zip\n",
      " extracting: README.dataset.txt      \n",
      " extracting: README.roboflow.txt     \n",
      " extracting: data.yaml               \n",
      "   creating: train/\n",
      "   creating: train/images/\n",
      " extracting: train/images/00000001_jpg.rf.bc74bfd2b9f1a3ebcb884f844f559f81.jpg  \n",
      " extracting: train/images/00000002_jpg.rf.48cfeb471ccbedbde6032403fb235fe0.jpg  \n",
      " extracting: train/images/00000003_jpg.rf.8217c5a99da7f67b93b833a28d928567.jpg  \n",
      " extracting: train/images/00000004_jpg.rf.28fa93e75761d82c96599e0c8e147c6c.jpg  \n",
      " extracting: train/images/00000005_jpg.rf.cb8c0e8c282fc5b2d413ad40628b6eb6.jpg  \n",
      " extracting: train/images/00000006_jpg.rf.b6cad1a3e29fb7bceafebf19ae45e56e.jpg  \n",
      " extracting: train/images/00000007_jpg.rf.1a4b939ecd49f8fcf4b60da3ad002f77.jpg  \n",
      " extracting: train/images/00000008_jpg.rf.189988fb9f3418c4b21b5afbc7c52dc6.jpg  \n",
      " extracting: train/images/00000009_jpg.rf.8bad8fee19119d4076c958477ef07013.jpg  \n",
      " extracting: train/images/00000010_jpg.rf.cece7cb4b3f1f6882f051648d74044b2.jpg  \n",
      " extracting: train/images/00000011_jpg.rf.65f72194a559efe7bef58a9d8cf42622.jpg  \n",
      " extracting: train/images/00000012_jpg.rf.ba722dcfe06ef16e7caf2bc180f8116c.jpg  \n",
      " extracting: train/images/00000013_jpg.rf.8f99183bc81a16941fcd12e7d5c2f643.jpg  \n",
      " extracting: train/images/00000014_jpg.rf.46b4fc0f2804139be08a38d824a81685.jpg  \n",
      " extracting: train/images/00000015_jpg.rf.ff9660b63e505f03a1ba42f4419b12a4.jpg  \n",
      " extracting: train/images/00000017_jpg.rf.1a872ff75960848d3b170598c275a727.jpg  \n",
      " extracting: train/images/00000018_jpg.rf.9212c1d81610d0c74b09b8c60e650dae.jpg  \n",
      " extracting: train/images/00000019_jpg.rf.c40cff876cbe7ae8333be29b81624318.jpg  \n",
      " extracting: train/images/00000020_jpg.rf.68f1b4d9495701dfbe141a263bb08fdd.jpg  \n",
      " extracting: train/images/00000021_jpg.rf.92457eee2b247a95440941f7f2618a01.jpg  \n",
      " extracting: train/images/00000022_jpg.rf.1a3694d2162b216d7928cc4128648c85.jpg  \n",
      " extracting: train/images/00000023_jpg.rf.becfb3c4b7d6d2f505f06d6c0888b2f5.jpg  \n",
      " extracting: train/images/00000024_jpg.rf.c78599d337ffa32ffbecef4443f3aa7c.jpg  \n",
      " extracting: train/images/00000025_jpg.rf.5f66f13f47465b5d78d226b628ce8ffb.jpg  \n",
      " extracting: train/images/00000026_jpg.rf.00dcc5fe76960399e14a466cf1244fb8.jpg  \n",
      " extracting: train/images/00000027_jpg.rf.37c871c1561b77570171d7f5b49241e6.jpg  \n",
      " extracting: train/images/00000028_jpg.rf.b62bb0d3076ee3d9f32adf71e0a32817.jpg  \n",
      " extracting: train/images/00000029_jpg.rf.69c12073bb18c0be787eba5c8930ef9e.jpg  \n",
      " extracting: train/images/00000030_jpg.rf.9a3655e764085e2ab5ef1c1a4ebac217.jpg  \n",
      " extracting: train/images/00000031_jpg.rf.805ad5a25f5b7bce257de70b2f34823c.jpg  \n",
      " extracting: train/images/00000032_jpg.rf.c771f096d6ea3ed77c0e53a796c1e5bb.jpg  \n",
      " extracting: train/images/00000033_jpg.rf.fb894d70a3a98894393e2f1a7f60c6fb.jpg  \n",
      " extracting: train/images/00000034_jpg.rf.bce146e4222952f5fbaf188e8ca413bd.jpg  \n",
      " extracting: train/images/00000035_jpg.rf.d381cabd578ca0f5eb4ee67e082946f9.jpg  \n",
      " extracting: train/images/00000036_jpg.rf.b2fe010dcd124ea827171b2835b441ef.jpg  \n",
      " extracting: train/images/00000037_jpg.rf.0992077912101aa37c0229f98fa7e448.jpg  \n",
      " extracting: train/images/00000038_jpg.rf.deb674ee3708cafc02fd7a2f3e4bdb3f.jpg  \n",
      " extracting: train/images/00000039_jpg.rf.00f9f2f2b538ef120e3842af5eae7d4b.jpg  \n",
      " extracting: train/images/00000040_jpg.rf.1e45fae383d2c756aff2cfd3fe0d9bda.jpg  \n",
      " extracting: train/images/00000041_jpg.rf.372634380761fc048a56ae800b193605.jpg  \n",
      " extracting: train/images/00000042_jpg.rf.cd5a31684a5160b37a1d6a591fe9c8ea.jpg  \n",
      " extracting: train/images/00000043_jpg.rf.a0578afff631e52808b344655cfe6cc9.jpg  \n",
      " extracting: train/images/00000044_jpg.rf.6779fdc09f81e8b13e13b58174cac55e.jpg  \n",
      " extracting: train/images/00000045_jpg.rf.3fa00e7f91c0e264f47d2402248f0187.jpg  \n",
      " extracting: train/images/00000046_jpg.rf.b0665a09c3b05268530ebb353ef9b4b2.jpg  \n",
      " extracting: train/images/00000047_jpg.rf.0aa6d5e51e0c9e2b6c0d7ca938df332b.jpg  \n",
      " extracting: train/images/00000048_jpg.rf.29258eef3a73e9a2903605621760cce2.jpg  \n",
      " extracting: train/images/00000049_jpg.rf.108c4c2315da8348b2b17298f07414c3.jpg  \n",
      " extracting: train/images/00000050_jpg.rf.b61bb0d7175be2e0222e01b45febf6b8.jpg  \n",
      " extracting: train/images/00000051_jpg.rf.a76c1f1f2a904880c2fe1653c80e17ec.jpg  \n",
      " extracting: train/images/00000052_jpg.rf.f3bd84c3305649efe77b6d1017aff8db.jpg  \n",
      " extracting: train/images/00000053_jpg.rf.0b6bddc9018537c6fe1317b7869232bd.jpg  \n",
      " extracting: train/images/00000054_jpg.rf.d7c8ec7bc4fcc203e6fa6e3b53079353.jpg  \n",
      " extracting: train/images/00000055_jpg.rf.d2b80380fb8b430f69c334dfc8c064d3.jpg  \n",
      " extracting: train/images/00000056_jpg.rf.e8ac1f118ca0f11ec6f688e6600d104c.jpg  \n",
      " extracting: train/images/00000057_jpg.rf.e7793590ac35cdbfc422cf5a2d087748.jpg  \n",
      " extracting: train/images/00000058_jpg.rf.8ccee2963e527e7a00038e1833a0ceed.jpg  \n",
      " extracting: train/images/00000059_jpg.rf.0e1c0cf66aba1c3ccbc4c4d2daf79c3d.jpg  \n",
      " extracting: train/images/00000060_jpg.rf.6f227f564317d68e3439874e710d4450.jpg  \n",
      " extracting: train/images/00000061_jpg.rf.812bcc960db672b2a9d2fe9aa38e066e.jpg  \n",
      " extracting: train/images/00000062_jpg.rf.864cdeeea7793d227b487882765f1ff8.jpg  \n",
      " extracting: train/images/00000063_jpg.rf.16b1a29b6d26b589f0ef9e0abeeff180.jpg  \n",
      " extracting: train/images/00000064_jpg.rf.cf4f7371173ad5a3e4184b29453a5ee1.jpg  \n",
      " extracting: train/images/00000065_jpg.rf.9fe2a68c8504391fe0221f68a21e80f7.jpg  \n",
      " extracting: train/images/00000066_jpg.rf.806cd3bc2d27d6f992ea12eef905450b.jpg  \n",
      " extracting: train/images/00000067_jpg.rf.0f72066235c15059ae91db8a9b21d277.jpg  \n",
      " extracting: train/images/00000068_jpg.rf.da77f8c1d60b2b430843b0f9850938c9.jpg  \n",
      " extracting: train/images/00000069_jpg.rf.3550cc25169dfaa5d4992d046d4c5dc1.jpg  \n",
      " extracting: train/images/00000071_jpg.rf.4a1b17423bcbc43d8eee675c89ced9d6.jpg  \n",
      " extracting: train/images/00000072_jpg.rf.86340bd63c4aa9b9976663a9f9715a0f.jpg  \n",
      " extracting: train/images/00000073_jpg.rf.a8af83b63df643eb9f6f79d3e71d617b.jpg  \n",
      " extracting: train/images/00000074_jpg.rf.e320ca0706bcc503c45fd82aed6ff04d.jpg  \n",
      " extracting: train/images/00000075_jpg.rf.a475a2ca3f2d33e7d0e261db17333a0f.jpg  \n",
      " extracting: train/images/00000077_jpg.rf.2858e18fcfcdd538f58ec45c3f100653.jpg  \n",
      " extracting: train/images/00000078_jpg.rf.6a60e6c91ca9dab7f026f51b75534d6e.jpg  \n",
      " extracting: train/images/00000079_jpg.rf.71b56c5113b8c0c306751fa81795e834.jpg  \n",
      " extracting: train/images/00000080_jpg.rf.30f916b434ac715252c5079333b717a9.jpg  \n",
      " extracting: train/images/00000081_jpg.rf.e4ad2ec413b8fba2f7e2d44a4ac029a9.jpg  \n",
      " extracting: train/images/00000082_jpg.rf.f21a62aca0576a8c811302237b3c4688.jpg  \n",
      " extracting: train/images/00000083_jpg.rf.c3c33a000c32ff954231b3d814f79f0d.jpg  \n",
      " extracting: train/images/00000084_jpg.rf.e6558a90d3ba266b1d18e34c80b0b810.jpg  \n",
      " extracting: train/images/00000085_jpg.rf.acbf5a23b8f2e89a30a784640fb13b00.jpg  \n",
      " extracting: train/images/00000086_jpg.rf.f161efdb19a870fb959c4a2a487beebf.jpg  \n",
      " extracting: train/images/00000087_jpg.rf.0abc682488dc3acef969dbbe9246ba49.jpg  \n",
      " extracting: train/images/00000088_jpg.rf.eee26453f9ff0a4bd718fca9fb6868e3.jpg  \n",
      " extracting: train/images/00000089_jpg.rf.649c921625bd95069e5b9c45b9d9a26d.jpg  \n",
      " extracting: train/images/00000090_jpg.rf.1a40c174d43dd0bd92d9f64e27ee60a6.jpg  \n",
      " extracting: train/images/00000091_jpg.rf.eaee04d687ddb41964fa56f035d4ff46.jpg  \n",
      " extracting: train/images/00000092_jpg.rf.264a23a51ee8cb45b5ff6899032ea214.jpg  \n",
      " extracting: train/images/00000093_jpg.rf.ae44ac5e76aefd28487f012709e90153.jpg  \n",
      " extracting: train/images/00000094_jpg.rf.a189f137efec7962b3e34a91ba36bebc.jpg  \n",
      " extracting: train/images/00000095_jpg.rf.7d087d8b9c93962c5976e417fc03c3cd.jpg  \n",
      " extracting: train/images/00000096_jpg.rf.c43480d73a9fe5bb9347408cd3362b97.jpg  \n",
      " extracting: train/images/00000097_jpg.rf.16aa2a823ed826d0ecdb9c30f9cfdd5d.jpg  \n",
      " extracting: train/images/00000098_jpg.rf.b201f7e8b5921d1b67ce0d02880c815b.jpg  \n",
      " extracting: train/images/00000099_jpg.rf.605e926f09ea6dad867678ef8b065eef.jpg  \n",
      " extracting: train/images/00000100_jpg.rf.80c066c01ee2e51d31899829296327aa.jpg  \n",
      " extracting: train/images/00000101_jpg.rf.de0892ff1cf4a7b75fae305b4c827f89.jpg  \n",
      " extracting: train/images/00000102_jpg.rf.c990b387f991660a93b249c08687c19e.jpg  \n",
      " extracting: train/images/00000103_jpg.rf.1c541567f7f3cf0d964a8db11ed9ed51.jpg  \n",
      " extracting: train/images/00000104_jpg.rf.f709b2b8402fa941f749a9cee0afecad.jpg  \n",
      " extracting: train/images/00000105_jpg.rf.279c02ac9835c6179f6fa6a9513cb333.jpg  \n",
      " extracting: train/images/00000106_jpg.rf.9bcaaeef4210158156ec762119a5cf41.jpg  \n",
      " extracting: train/images/00000107_jpg.rf.e4237b573c78eaeec45623878d3314ad.jpg  \n",
      " extracting: train/images/00000108_jpg.rf.33ead2cd885f4727f9bf38c1a300079c.jpg  \n",
      " extracting: train/images/00000109_jpg.rf.d267033173b11498e13c9d0abf538987.jpg  \n",
      " extracting: train/images/00000110_jpg.rf.acd589e69bf49d186ee46051771bd387.jpg  \n",
      " extracting: train/images/00000111_jpg.rf.29477df4e7ba004e100c58ed8d0e97d4.jpg  \n",
      " extracting: train/images/00000112_jpg.rf.21996645ec1b74bac9f7025631560ba3.jpg  \n",
      " extracting: train/images/00000113_jpg.rf.259b5e4fa050c987c6f7f406e3a51fa2.jpg  \n",
      " extracting: train/images/00000114_jpg.rf.c4e06a6d10d59e55c306f7f403afd883.jpg  \n",
      " extracting: train/images/00000115_jpg.rf.bf37e10948c9a41444ae17a77b31841c.jpg  \n",
      " extracting: train/images/00000116_jpg.rf.5e7e4a366157dace80b469ce7c3e74f0.jpg  \n",
      "   creating: train/labels/\n",
      " extracting: train/labels/00000001_jpg.rf.bc74bfd2b9f1a3ebcb884f844f559f81.txt  \n",
      " extracting: train/labels/00000002_jpg.rf.48cfeb471ccbedbde6032403fb235fe0.txt  \n",
      " extracting: train/labels/00000003_jpg.rf.8217c5a99da7f67b93b833a28d928567.txt  \n",
      " extracting: train/labels/00000004_jpg.rf.28fa93e75761d82c96599e0c8e147c6c.txt  \n",
      " extracting: train/labels/00000005_jpg.rf.cb8c0e8c282fc5b2d413ad40628b6eb6.txt  \n",
      " extracting: train/labels/00000006_jpg.rf.b6cad1a3e29fb7bceafebf19ae45e56e.txt  \n",
      " extracting: train/labels/00000007_jpg.rf.1a4b939ecd49f8fcf4b60da3ad002f77.txt  \n",
      " extracting: train/labels/00000008_jpg.rf.189988fb9f3418c4b21b5afbc7c52dc6.txt  \n",
      " extracting: train/labels/00000009_jpg.rf.8bad8fee19119d4076c958477ef07013.txt  \n",
      " extracting: train/labels/00000010_jpg.rf.cece7cb4b3f1f6882f051648d74044b2.txt  \n",
      " extracting: train/labels/00000011_jpg.rf.65f72194a559efe7bef58a9d8cf42622.txt  \n",
      " extracting: train/labels/00000012_jpg.rf.ba722dcfe06ef16e7caf2bc180f8116c.txt  \n",
      " extracting: train/labels/00000013_jpg.rf.8f99183bc81a16941fcd12e7d5c2f643.txt  \n",
      " extracting: train/labels/00000014_jpg.rf.46b4fc0f2804139be08a38d824a81685.txt  \n",
      " extracting: train/labels/00000015_jpg.rf.ff9660b63e505f03a1ba42f4419b12a4.txt  \n",
      " extracting: train/labels/00000017_jpg.rf.1a872ff75960848d3b170598c275a727.txt  \n",
      " extracting: train/labels/00000018_jpg.rf.9212c1d81610d0c74b09b8c60e650dae.txt  \n",
      " extracting: train/labels/00000019_jpg.rf.c40cff876cbe7ae8333be29b81624318.txt  \n",
      " extracting: train/labels/00000020_jpg.rf.68f1b4d9495701dfbe141a263bb08fdd.txt  \n",
      " extracting: train/labels/00000021_jpg.rf.92457eee2b247a95440941f7f2618a01.txt  \n",
      " extracting: train/labels/00000022_jpg.rf.1a3694d2162b216d7928cc4128648c85.txt  \n",
      " extracting: train/labels/00000023_jpg.rf.becfb3c4b7d6d2f505f06d6c0888b2f5.txt  \n",
      " extracting: train/labels/00000024_jpg.rf.c78599d337ffa32ffbecef4443f3aa7c.txt  \n",
      " extracting: train/labels/00000025_jpg.rf.5f66f13f47465b5d78d226b628ce8ffb.txt  \n",
      " extracting: train/labels/00000026_jpg.rf.00dcc5fe76960399e14a466cf1244fb8.txt  \n",
      " extracting: train/labels/00000027_jpg.rf.37c871c1561b77570171d7f5b49241e6.txt  \n",
      " extracting: train/labels/00000028_jpg.rf.b62bb0d3076ee3d9f32adf71e0a32817.txt  \n",
      " extracting: train/labels/00000029_jpg.rf.69c12073bb18c0be787eba5c8930ef9e.txt  \n",
      " extracting: train/labels/00000030_jpg.rf.9a3655e764085e2ab5ef1c1a4ebac217.txt  \n",
      " extracting: train/labels/00000031_jpg.rf.805ad5a25f5b7bce257de70b2f34823c.txt  \n",
      " extracting: train/labels/00000032_jpg.rf.c771f096d6ea3ed77c0e53a796c1e5bb.txt  \n",
      " extracting: train/labels/00000033_jpg.rf.fb894d70a3a98894393e2f1a7f60c6fb.txt  \n",
      " extracting: train/labels/00000034_jpg.rf.bce146e4222952f5fbaf188e8ca413bd.txt  \n",
      " extracting: train/labels/00000035_jpg.rf.d381cabd578ca0f5eb4ee67e082946f9.txt  \n",
      " extracting: train/labels/00000036_jpg.rf.b2fe010dcd124ea827171b2835b441ef.txt  \n",
      " extracting: train/labels/00000037_jpg.rf.0992077912101aa37c0229f98fa7e448.txt  \n",
      " extracting: train/labels/00000038_jpg.rf.deb674ee3708cafc02fd7a2f3e4bdb3f.txt  \n",
      " extracting: train/labels/00000039_jpg.rf.00f9f2f2b538ef120e3842af5eae7d4b.txt  \n",
      " extracting: train/labels/00000040_jpg.rf.1e45fae383d2c756aff2cfd3fe0d9bda.txt  \n",
      " extracting: train/labels/00000041_jpg.rf.372634380761fc048a56ae800b193605.txt  \n",
      " extracting: train/labels/00000042_jpg.rf.cd5a31684a5160b37a1d6a591fe9c8ea.txt  \n",
      " extracting: train/labels/00000043_jpg.rf.a0578afff631e52808b344655cfe6cc9.txt  \n",
      " extracting: train/labels/00000044_jpg.rf.6779fdc09f81e8b13e13b58174cac55e.txt  \n",
      " extracting: train/labels/00000045_jpg.rf.3fa00e7f91c0e264f47d2402248f0187.txt  \n",
      " extracting: train/labels/00000046_jpg.rf.b0665a09c3b05268530ebb353ef9b4b2.txt  \n",
      " extracting: train/labels/00000047_jpg.rf.0aa6d5e51e0c9e2b6c0d7ca938df332b.txt  \n",
      " extracting: train/labels/00000048_jpg.rf.29258eef3a73e9a2903605621760cce2.txt  \n",
      " extracting: train/labels/00000049_jpg.rf.108c4c2315da8348b2b17298f07414c3.txt  \n",
      " extracting: train/labels/00000050_jpg.rf.b61bb0d7175be2e0222e01b45febf6b8.txt  \n",
      " extracting: train/labels/00000051_jpg.rf.a76c1f1f2a904880c2fe1653c80e17ec.txt  \n",
      " extracting: train/labels/00000052_jpg.rf.f3bd84c3305649efe77b6d1017aff8db.txt  \n",
      " extracting: train/labels/00000053_jpg.rf.0b6bddc9018537c6fe1317b7869232bd.txt  \n",
      " extracting: train/labels/00000054_jpg.rf.d7c8ec7bc4fcc203e6fa6e3b53079353.txt  \n",
      " extracting: train/labels/00000055_jpg.rf.d2b80380fb8b430f69c334dfc8c064d3.txt  \n",
      " extracting: train/labels/00000056_jpg.rf.e8ac1f118ca0f11ec6f688e6600d104c.txt  \n",
      " extracting: train/labels/00000057_jpg.rf.e7793590ac35cdbfc422cf5a2d087748.txt  \n",
      " extracting: train/labels/00000058_jpg.rf.8ccee2963e527e7a00038e1833a0ceed.txt  \n",
      " extracting: train/labels/00000059_jpg.rf.0e1c0cf66aba1c3ccbc4c4d2daf79c3d.txt  \n",
      " extracting: train/labels/00000060_jpg.rf.6f227f564317d68e3439874e710d4450.txt  \n",
      " extracting: train/labels/00000061_jpg.rf.812bcc960db672b2a9d2fe9aa38e066e.txt  \n",
      " extracting: train/labels/00000062_jpg.rf.864cdeeea7793d227b487882765f1ff8.txt  \n",
      " extracting: train/labels/00000063_jpg.rf.16b1a29b6d26b589f0ef9e0abeeff180.txt  \n",
      " extracting: train/labels/00000064_jpg.rf.cf4f7371173ad5a3e4184b29453a5ee1.txt  \n",
      " extracting: train/labels/00000065_jpg.rf.9fe2a68c8504391fe0221f68a21e80f7.txt  \n",
      " extracting: train/labels/00000066_jpg.rf.806cd3bc2d27d6f992ea12eef905450b.txt  \n",
      " extracting: train/labels/00000067_jpg.rf.0f72066235c15059ae91db8a9b21d277.txt  \n",
      " extracting: train/labels/00000068_jpg.rf.da77f8c1d60b2b430843b0f9850938c9.txt  \n",
      " extracting: train/labels/00000069_jpg.rf.3550cc25169dfaa5d4992d046d4c5dc1.txt  \n",
      " extracting: train/labels/00000071_jpg.rf.4a1b17423bcbc43d8eee675c89ced9d6.txt  \n",
      " extracting: train/labels/00000072_jpg.rf.86340bd63c4aa9b9976663a9f9715a0f.txt  \n",
      " extracting: train/labels/00000073_jpg.rf.a8af83b63df643eb9f6f79d3e71d617b.txt  \n",
      " extracting: train/labels/00000074_jpg.rf.e320ca0706bcc503c45fd82aed6ff04d.txt  \n",
      " extracting: train/labels/00000075_jpg.rf.a475a2ca3f2d33e7d0e261db17333a0f.txt  \n",
      " extracting: train/labels/00000077_jpg.rf.2858e18fcfcdd538f58ec45c3f100653.txt  \n",
      " extracting: train/labels/00000078_jpg.rf.6a60e6c91ca9dab7f026f51b75534d6e.txt  \n",
      " extracting: train/labels/00000079_jpg.rf.71b56c5113b8c0c306751fa81795e834.txt  \n",
      " extracting: train/labels/00000080_jpg.rf.30f916b434ac715252c5079333b717a9.txt  \n",
      " extracting: train/labels/00000081_jpg.rf.e4ad2ec413b8fba2f7e2d44a4ac029a9.txt  \n",
      " extracting: train/labels/00000082_jpg.rf.f21a62aca0576a8c811302237b3c4688.txt  \n",
      " extracting: train/labels/00000083_jpg.rf.c3c33a000c32ff954231b3d814f79f0d.txt  \n",
      " extracting: train/labels/00000084_jpg.rf.e6558a90d3ba266b1d18e34c80b0b810.txt  \n",
      " extracting: train/labels/00000085_jpg.rf.acbf5a23b8f2e89a30a784640fb13b00.txt  \n",
      " extracting: train/labels/00000086_jpg.rf.f161efdb19a870fb959c4a2a487beebf.txt  \n",
      " extracting: train/labels/00000087_jpg.rf.0abc682488dc3acef969dbbe9246ba49.txt  \n",
      " extracting: train/labels/00000088_jpg.rf.eee26453f9ff0a4bd718fca9fb6868e3.txt  \n",
      " extracting: train/labels/00000089_jpg.rf.649c921625bd95069e5b9c45b9d9a26d.txt  \n",
      " extracting: train/labels/00000090_jpg.rf.1a40c174d43dd0bd92d9f64e27ee60a6.txt  \n",
      " extracting: train/labels/00000091_jpg.rf.eaee04d687ddb41964fa56f035d4ff46.txt  \n",
      " extracting: train/labels/00000092_jpg.rf.264a23a51ee8cb45b5ff6899032ea214.txt  \n",
      " extracting: train/labels/00000093_jpg.rf.ae44ac5e76aefd28487f012709e90153.txt  \n",
      " extracting: train/labels/00000094_jpg.rf.a189f137efec7962b3e34a91ba36bebc.txt  \n",
      " extracting: train/labels/00000095_jpg.rf.7d087d8b9c93962c5976e417fc03c3cd.txt  \n",
      " extracting: train/labels/00000096_jpg.rf.c43480d73a9fe5bb9347408cd3362b97.txt  \n",
      " extracting: train/labels/00000097_jpg.rf.16aa2a823ed826d0ecdb9c30f9cfdd5d.txt  \n",
      " extracting: train/labels/00000098_jpg.rf.b201f7e8b5921d1b67ce0d02880c815b.txt  \n",
      " extracting: train/labels/00000099_jpg.rf.605e926f09ea6dad867678ef8b065eef.txt  \n",
      " extracting: train/labels/00000100_jpg.rf.80c066c01ee2e51d31899829296327aa.txt  \n",
      " extracting: train/labels/00000101_jpg.rf.de0892ff1cf4a7b75fae305b4c827f89.txt  \n",
      " extracting: train/labels/00000102_jpg.rf.c990b387f991660a93b249c08687c19e.txt  \n",
      " extracting: train/labels/00000103_jpg.rf.1c541567f7f3cf0d964a8db11ed9ed51.txt  \n",
      " extracting: train/labels/00000104_jpg.rf.f709b2b8402fa941f749a9cee0afecad.txt  \n",
      " extracting: train/labels/00000105_jpg.rf.279c02ac9835c6179f6fa6a9513cb333.txt  \n",
      " extracting: train/labels/00000106_jpg.rf.9bcaaeef4210158156ec762119a5cf41.txt  \n",
      " extracting: train/labels/00000107_jpg.rf.e4237b573c78eaeec45623878d3314ad.txt  \n",
      " extracting: train/labels/00000108_jpg.rf.33ead2cd885f4727f9bf38c1a300079c.txt  \n",
      " extracting: train/labels/00000109_jpg.rf.d267033173b11498e13c9d0abf538987.txt  \n",
      " extracting: train/labels/00000110_jpg.rf.acd589e69bf49d186ee46051771bd387.txt  \n",
      " extracting: train/labels/00000111_jpg.rf.29477df4e7ba004e100c58ed8d0e97d4.txt  \n",
      " extracting: train/labels/00000112_jpg.rf.21996645ec1b74bac9f7025631560ba3.txt  \n",
      " extracting: train/labels/00000113_jpg.rf.259b5e4fa050c987c6f7f406e3a51fa2.txt  \n",
      " extracting: train/labels/00000114_jpg.rf.c4e06a6d10d59e55c306f7f403afd883.txt  \n",
      " extracting: train/labels/00000115_jpg.rf.bf37e10948c9a41444ae17a77b31841c.txt  \n",
      " extracting: train/labels/00000116_jpg.rf.5e7e4a366157dace80b469ce7c3e74f0.txt  \n"
     ]
    }
   ],
   "source": [
    "!curl -L \"https://public.roboflow.com/ds/81U0ljaSaa?key=sJs9YEuzLw\" > roboflow.zip; unzip roboflow.zip; rm roboflow.zip\n"
   ]
  },
  {
   "cell_type": "code",
   "execution_count": 6,
   "metadata": {},
   "outputs": [
    {
     "name": "stdout",
     "output_type": "stream",
     "text": [
      "/storage/home/v/vas5260/DS_440_Capstone/volume/data/raw/Images/yolor\n",
      "  % Total    % Received % Xferd  Average Speed   Time    Time     Time  Current\n",
      "                                 Dload  Upload   Total   Spent    Left  Speed\n",
      "100  2228    0  2228    0     0  12516      0 --:--:-- --:--:-- --:--:-- 12516\n",
      "  % Total    % Received % Xferd  Average Speed   Time    Time     Time  Current\n",
      "                                 Dload  Upload   Total   Spent    Left  Speed\n",
      "100  2228    0  2228    0     0  12731      0 --:--:-- --:--:-- --:--:-- 12731\n"
     ]
    }
   ],
   "source": [
    "%cd /storage/home/vas5260/DS_440_Capstone/volume/data/raw/Images/yolor\n",
    "!bash scripts/get_pretrain.sh"
   ]
  },
  {
   "cell_type": "code",
   "execution_count": 8,
   "metadata": {},
   "outputs": [
    {
     "name": "stdout",
     "output_type": "stream",
     "text": [
      "Traceback (most recent call last):\n",
      "  File \"train.py\", line 506, in <module>\n",
      "    opt.data, opt.cfg, opt.hyp = check_file(opt.data), check_file(opt.cfg), check_file(opt.hyp)  # check files\n",
      "  File \"/storage/home/v/vas5260/DS_440_Capstone/volume/data/raw/Images/yolor/utils/general.py\", line 73, in check_file\n",
      "    assert len(files), 'File Not Found: %s' % file  # assert file was found\n",
      "AssertionError: File Not Found: /storage/home/vas5260/DS_440_Capstone/volume/data/raw/Images/train/images/\n"
     ]
    }
   ],
   "source": [
    "!python train.py --batch-size 8 --img 416 416 --data '/storage/home/vas5260/DS_440_Capstone/volume/data/raw/Images/train/images/' --cfg cfg/yolor_p6.cfg --weights '/storage/home/vas5260/DS_440_Capstone/volume/data/raw/Images/yolor/yolor_p6.pt' --device 0 --name yolor_p6 --hyp '/storage/home/vas5260/DS_440_Capstone/volume/data/raw/Images/yolor/data/hyp.scratch.1280.yaml' --epochs 50\n"
   ]
  },
  {
   "cell_type": "code",
   "execution_count": null,
   "metadata": {},
   "outputs": [],
   "source": []
  }
 ],
 "metadata": {
  "kernelspec": {
   "display_name": "Python 3",
   "language": "python",
   "name": "python3"
  },
  "language_info": {
   "codemirror_mode": {
    "name": "ipython",
    "version": 3
   },
   "file_extension": ".py",
   "mimetype": "text/x-python",
   "name": "python",
   "nbconvert_exporter": "python",
   "pygments_lexer": "ipython3",
   "version": "3.8.3"
  }
 },
 "nbformat": 4,
 "nbformat_minor": 4
}
