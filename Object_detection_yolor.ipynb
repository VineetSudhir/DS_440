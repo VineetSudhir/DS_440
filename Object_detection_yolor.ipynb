{
 "cells": [
  {
   "cell_type": "code",
   "execution_count": 1,
   "metadata": {},
   "outputs": [
    {
     "name": "stdout",
     "output_type": "stream",
     "text": [
      "Cloning into 'yolor'...\n",
      "remote: Enumerating objects: 387, done.\u001b[K\n",
      "remote: Total 387 (delta 0), reused 0 (delta 0), pack-reused 387\u001b[K\n",
      "Receiving objects: 100% (387/387), 2.97 MiB | 0 bytes/s, done.\n",
      "Resolving deltas: 100% (173/173), done.\n"
     ]
    }
   ],
   "source": [
    "!git clone https://github.com/roboflow-ai/yolor"
   ]
  },
  {
   "cell_type": "code",
   "execution_count": 3,
   "metadata": {},
   "outputs": [
    {
     "name": "stdout",
     "output_type": "stream",
     "text": [
      "/storage/home/v/vas5260/DS_440_Capstone/volume/data/raw/Images/yolor\n",
      "HEAD is now at eb3ef0b indentation\n"
     ]
    }
   ],
   "source": [
    "%cd /storage/home/vas5260/DS_440_Capstone/volume/data/raw/Images/yolor\n",
    "!git reset --hard eb3ef0b7472413d6740f5cde39beb1a2f5b8b5d1"
   ]
  },
  {
   "cell_type": "code",
   "execution_count": 4,
   "metadata": {},
   "outputs": [],
   "source": [
    "# Installing Dependencies\n",
    "!pip install -qr requirements.txt\n",
    "\n"
   ]
  },
  {
   "cell_type": "code",
   "execution_count": 5,
   "metadata": {},
   "outputs": [
    {
     "name": "stdout",
     "output_type": "stream",
     "text": [
      "Cloning into 'mish-cuda'...\n",
      "remote: Enumerating objects: 195, done.\u001b[K\n",
      "remote: Counting objects: 100% (88/88), done.\u001b[K\n",
      "remote: Compressing objects: 100% (75/75), done.\u001b[K\n",
      "remote: Total 195 (delta 7), reused 79 (delta 3), pack-reused 107\u001b[K\n",
      "Receiving objects: 100% (195/195), 208.77 KiB | 0 bytes/s, done.\n",
      "Resolving deltas: 100% (56/56), done.\n"
     ]
    }
   ],
   "source": [
    "# Installing MISH CUDA\n",
    "!git clone https://github.com/JunnYu/mish-cuda"
   ]
  },
  {
   "cell_type": "code",
   "execution_count": 6,
   "metadata": {},
   "outputs": [
    {
     "name": "stdout",
     "output_type": "stream",
     "text": [
      "/storage/home/v/vas5260/DS_440_Capstone/volume/data/raw/Images/yolor/mish-cuda\n",
      "HEAD is now at 6f38976 Update README.md\n",
      "Traceback (most recent call last):\n",
      "  File \"setup.py\", line 21, in <module>\n",
      "    CUDAExtension('mish_cuda._C',\n",
      "  File \"/storage/home/vas5260/.local/lib/python3.8/site-packages/torch/utils/cpp_extension.py\", line 783, in CUDAExtension\n",
      "    library_dirs += library_paths(cuda=True)\n",
      "  File \"/storage/home/vas5260/.local/lib/python3.8/site-packages/torch/utils/cpp_extension.py\", line 875, in library_paths\n",
      "    if (not os.path.exists(_join_cuda_home(lib_dir)) and\n",
      "  File \"/storage/home/vas5260/.local/lib/python3.8/site-packages/torch/utils/cpp_extension.py\", line 1794, in _join_cuda_home\n",
      "    raise EnvironmentError('CUDA_HOME environment variable is not set. '\n",
      "OSError: CUDA_HOME environment variable is not set. Please set it to your CUDA install root.\n"
     ]
    }
   ],
   "source": [
    "%cd /storage/home/vas5260/DS_440_Capstone/volume/data/raw/Images/yolor/mish-cuda\n",
    "!git reset --hard 6f38976064cbcc4782f4212d7c0c5f6dd5e315a8\n",
    "!python setup.py build install"
   ]
  },
  {
   "cell_type": "code",
   "execution_count": 7,
   "metadata": {},
   "outputs": [
    {
     "name": "stdout",
     "output_type": "stream",
     "text": [
      "/storage/home/v/vas5260/DS_440_Capstone/volume/data/raw/Images/yolor\n"
     ]
    }
   ],
   "source": [
    "%cd .."
   ]
  },
  {
   "cell_type": "code",
   "execution_count": 8,
   "metadata": {},
   "outputs": [
    {
     "name": "stdout",
     "output_type": "stream",
     "text": [
      "Cloning into 'pytorch_wavelets'...\n",
      "remote: Enumerating objects: 972, done.\u001b[K\n",
      "remote: Counting objects: 100% (136/136), done.\u001b[K\n",
      "remote: Compressing objects: 100% (91/91), done.\u001b[K\n",
      "remote: Total 972 (delta 75), reused 89 (delta 45), pack-reused 836\u001b[K\n",
      "Receiving objects: 100% (972/972), 6.80 MiB | 0 bytes/s, done.\n",
      "Resolving deltas: 100% (659/659), done.\n"
     ]
    }
   ],
   "source": [
    "# Installing PyTorch Wavelets\n",
    "!git clone https://github.com/fbcotter/pytorch_wavelets"
   ]
  },
  {
   "cell_type": "code",
   "execution_count": 9,
   "metadata": {},
   "outputs": [
    {
     "name": "stdout",
     "output_type": "stream",
     "text": [
      "/storage/home/v/vas5260/DS_440_Capstone/volume/data/raw/Images/yolor/pytorch_wavelets\n",
      "Defaulting to user installation because normal site-packages is not writeable\n",
      "Processing /storage/home/v/vas5260/DS_440_Capstone/volume/data/raw/Images/yolor/pytorch_wavelets\n",
      "Requirement already satisfied: numpy in /storage/home/v/vas5260/.local/lib/python3.8/site-packages (from pytorch-wavelets==1.3.0) (1.22.3)\n",
      "Requirement already satisfied: six in /opt/global/RedHat-7/production-20220107/sw/anaconda3/2020.07_gcc-4.8.5-bzb/lib/python3.8/site-packages (from pytorch-wavelets==1.3.0) (1.15.0)\n",
      "Requirement already satisfied: torch in /storage/home/v/vas5260/.local/lib/python3.8/site-packages (from pytorch-wavelets==1.3.0) (1.7.0)\n",
      "Requirement already satisfied: future in /opt/global/RedHat-7/production-20220107/sw/anaconda3/2020.07_gcc-4.8.5-bzb/lib/python3.8/site-packages (from torch->pytorch-wavelets==1.3.0) (0.18.2)\n",
      "Requirement already satisfied: typing-extensions in /opt/global/RedHat-7/production-20220107/sw/anaconda3/2020.07_gcc-4.8.5-bzb/lib/python3.8/site-packages (from torch->pytorch-wavelets==1.3.0) (3.7.4.2)\n",
      "Requirement already satisfied: dataclasses in /storage/home/v/vas5260/.local/lib/python3.8/site-packages (from torch->pytorch-wavelets==1.3.0) (0.6)\n",
      "Building wheels for collected packages: pytorch-wavelets\n",
      "  Building wheel for pytorch-wavelets (setup.py) ... \u001b[?25ldone\n",
      "\u001b[?25h  Created wheel for pytorch-wavelets: filename=pytorch_wavelets-1.3.0-py3-none-any.whl size=54855 sha256=37e0e410ab443390c4d342f5a99ea46c442c5b0338049f072a4c9f39259daf78\n",
      "  Stored in directory: /tmp/pip-ephem-wheel-cache-y8i857xl/wheels/f2/6f/50/bac820484f4702328e77a35124faa9d1a6bcfad60404a3b855\n",
      "Successfully built pytorch-wavelets\n",
      "Installing collected packages: pytorch-wavelets\n",
      "  Attempting uninstall: pytorch-wavelets\n",
      "    Found existing installation: pytorch-wavelets 1.3.0\n",
      "    Uninstalling pytorch-wavelets-1.3.0:\n",
      "      Successfully uninstalled pytorch-wavelets-1.3.0\n",
      "Successfully installed pytorch-wavelets-1.3.0\n",
      "/storage/home/v/vas5260/DS_440_Capstone/volume/data/raw/Images/yolor\n"
     ]
    }
   ],
   "source": [
    "%cd pytorch_wavelets\n",
    "!pip install .\n",
    "%cd .."
   ]
  },
  {
   "cell_type": "code",
   "execution_count": 12,
   "metadata": {},
   "outputs": [
    {
     "name": "stdout",
     "output_type": "stream",
     "text": [
      "Defaulting to user installation because normal site-packages is not writeable\n",
      "Collecting roboflow\n",
      "  Downloading roboflow-0.2.4.tar.gz (15 kB)\n",
      "Collecting certifi==2021.5.30\n",
      "  Downloading certifi-2021.5.30-py2.py3-none-any.whl (145 kB)\n",
      "\u001b[K     |████████████████████████████████| 145 kB 3.7 MB/s eta 0:00:01\n",
      "\u001b[?25hCollecting chardet==4.0.0\n",
      "  Downloading chardet-4.0.0-py2.py3-none-any.whl (178 kB)\n",
      "\u001b[K     |████████████████████████████████| 178 kB 28.0 MB/s eta 0:00:01\n",
      "\u001b[?25hRequirement already satisfied: cycler==0.10.0 in /opt/global/RedHat-7/production-20220107/sw/anaconda3/2020.07_gcc-4.8.5-bzb/lib/python3.8/site-packages (from roboflow) (0.10.0)\n",
      "Requirement already satisfied: idna==2.10 in /opt/global/RedHat-7/production-20220107/sw/anaconda3/2020.07_gcc-4.8.5-bzb/lib/python3.8/site-packages (from roboflow) (2.10)\n",
      "Collecting kiwisolver==1.3.1\n",
      "  Downloading kiwisolver-1.3.1-cp38-cp38-manylinux1_x86_64.whl (1.2 MB)\n",
      "\u001b[K     |████████████████████████████████| 1.2 MB 31.1 MB/s eta 0:00:01\n",
      "\u001b[?25hRequirement already satisfied: matplotlib in /opt/global/RedHat-7/production-20220107/sw/anaconda3/2020.07_gcc-4.8.5-bzb/lib/python3.8/site-packages (from roboflow) (3.2.2)\n",
      "Requirement already satisfied: numpy>=1.18.5 in /storage/home/v/vas5260/.local/lib/python3.8/site-packages (from roboflow) (1.22.3)\n",
      "Requirement already satisfied: opencv-python>=4.1.2 in /storage/home/v/vas5260/.local/lib/python3.8/site-packages (from roboflow) (4.5.5.62)\n",
      "Requirement already satisfied: Pillow>=7.1.2 in /opt/global/RedHat-7/production-20220107/sw/anaconda3/2020.07_gcc-4.8.5-bzb/lib/python3.8/site-packages (from roboflow) (7.2.0)\n",
      "Requirement already satisfied: pyparsing==2.4.7 in /opt/global/RedHat-7/production-20220107/sw/anaconda3/2020.07_gcc-4.8.5-bzb/lib/python3.8/site-packages (from roboflow) (2.4.7)\n",
      "Requirement already satisfied: python-dateutil in /opt/global/RedHat-7/production-20220107/sw/anaconda3/2020.07_gcc-4.8.5-bzb/lib/python3.8/site-packages (from roboflow) (2.8.1)\n",
      "Collecting python-dotenv\n",
      "  Downloading python_dotenv-0.20.0-py3-none-any.whl (17 kB)\n",
      "Requirement already satisfied: requests in /opt/global/RedHat-7/production-20220107/sw/anaconda3/2020.07_gcc-4.8.5-bzb/lib/python3.8/site-packages (from roboflow) (2.24.0)\n",
      "Collecting requests_toolbelt\n",
      "  Downloading requests_toolbelt-0.9.1-py2.py3-none-any.whl (54 kB)\n",
      "\u001b[K     |████████████████████████████████| 54 kB 231 kB/s  eta 0:00:01\n",
      "\u001b[?25hRequirement already satisfied: six in /opt/global/RedHat-7/production-20220107/sw/anaconda3/2020.07_gcc-4.8.5-bzb/lib/python3.8/site-packages (from roboflow) (1.15.0)\n",
      "Collecting urllib3==1.26.6\n",
      "  Downloading urllib3-1.26.6-py2.py3-none-any.whl (138 kB)\n",
      "\u001b[K     |████████████████████████████████| 138 kB 55.8 MB/s eta 0:00:01\n",
      "\u001b[?25hCollecting wget\n",
      "  Downloading wget-3.2.zip (10 kB)\n",
      "Requirement already satisfied: tqdm>=4.41.0 in /opt/global/RedHat-7/production-20220107/sw/anaconda3/2020.07_gcc-4.8.5-bzb/lib/python3.8/site-packages (from roboflow) (4.47.0)\n",
      "Requirement already satisfied: PyYAML>=5.3.1 in /opt/global/RedHat-7/production-20220107/sw/anaconda3/2020.07_gcc-4.8.5-bzb/lib/python3.8/site-packages (from roboflow) (5.3.1)\n",
      "Building wheels for collected packages: roboflow, wget\n",
      "  Building wheel for roboflow (setup.py) ... \u001b[?25ldone\n",
      "\u001b[?25h  Created wheel for roboflow: filename=roboflow-0.2.4-py3-none-any.whl size=21357 sha256=a8ba1ee4ce7539e242b34c3d8916e14e487e04aab877e31c7e8dad1868557338\n",
      "  Stored in directory: /storage/home/v/vas5260/.cache/pip/wheels/76/54/18/8748628e3fb21d5a6d4faa40f74e5eac5fdb51ff9250297837\n",
      "  Building wheel for wget (setup.py) ... \u001b[?25ldone\n",
      "\u001b[?25h  Created wheel for wget: filename=wget-3.2-py3-none-any.whl size=9681 sha256=358be9cf0136e6195ab0d83e13b80463f03d4327c9d4add705d5e123822fce65\n",
      "  Stored in directory: /storage/home/v/vas5260/.cache/pip/wheels/bd/a8/c3/3cf2c14a1837a4e04bd98631724e81f33f462d86a1d895fae0\n",
      "Successfully built roboflow wget\n",
      "\u001b[31mERROR: spyder 4.1.4 requires pyqt5<5.13; python_version >= \"3\", which is not installed.\u001b[0m\n",
      "\u001b[31mERROR: spyder 4.1.4 requires pyqtwebengine<5.13; python_version >= \"3\", which is not installed.\u001b[0m\n",
      "\u001b[31mERROR: requests 2.24.0 has requirement chardet<4,>=3.0.2, but you'll have chardet 4.0.0 which is incompatible.\u001b[0m\n",
      "\u001b[31mERROR: requests 2.24.0 has requirement urllib3!=1.25.0,!=1.25.1,<1.26,>=1.21.1, but you'll have urllib3 1.26.6 which is incompatible.\u001b[0m\n",
      "Installing collected packages: certifi, chardet, kiwisolver, python-dotenv, requests-toolbelt, urllib3, wget, roboflow\n",
      "\u001b[33m  WARNING: The script chardetect is installed in '/storage/home/vas5260/.local/bin' which is not on PATH.\n",
      "  Consider adding this directory to PATH or, if you prefer to suppress this warning, use --no-warn-script-location.\u001b[0m\n",
      "\u001b[33m  WARNING: The script dotenv is installed in '/storage/home/vas5260/.local/bin' which is not on PATH.\n",
      "  Consider adding this directory to PATH or, if you prefer to suppress this warning, use --no-warn-script-location.\u001b[0m\n",
      "Successfully installed certifi-2021.5.30 chardet-4.0.0 kiwisolver-1.3.1 python-dotenv-0.20.0 requests-toolbelt-0.9.1 roboflow-0.2.4 urllib3-1.26.6 wget-3.2\n"
     ]
    },
    {
     "name": "stderr",
     "output_type": "stream",
     "text": [
      "/opt/aci/sw/anaconda3/2020.07_gcc-4.8.5-bzb/lib/python3.8/site-packages/requests/__init__.py:89: RequestsDependencyWarning: urllib3 (1.26.6) or chardet (4.0.0) doesn't match a supported version!\n",
      "  warnings.warn(\"urllib3 ({}) or chardet ({}) doesn't match a supported \"\n"
     ]
    },
    {
     "name": "stdout",
     "output_type": "stream",
     "text": [
      "loading Roboflow workspace...\n",
      "loading Roboflow project...\n",
      "Downloading Dataset Version Zip in YOLOR-object-detection-1 to yolov5pytorch: 100% [1694797 / 1694797] bytes\n"
     ]
    },
    {
     "name": "stderr",
     "output_type": "stream",
     "text": [
      "Extracting Dataset Version Zip to YOLOR-object-detection-1 in yolov5pytorch:: 100%|██████████| 232/232 [00:00<00:00, 333.09it/s]\n"
     ]
    }
   ],
   "source": [
    "!pip install roboflow\n",
    "\n",
    "from roboflow import Roboflow\n",
    "rf = Roboflow(api_key=\"njmpOX3FTa6MPZtgEFiZ\")\n",
    "project = rf.workspace(\"new-workspace-fdfv5\").project(\"yolor-object-detection\")\n",
    "dataset = project.version(1).download(\"yolov5\")"
   ]
  },
  {
   "cell_type": "code",
   "execution_count": 13,
   "metadata": {},
   "outputs": [
    {
     "name": "stdout",
     "output_type": "stream",
     "text": [
      "[Errno 2] No such file or directory: '/content/yolor'\n",
      "/storage/home/v/vas5260/DS_440_Capstone/volume/data/raw/Images/yolor\n",
      "  % Total    % Received % Xferd  Average Speed   Time    Time     Time  Current\n",
      "                                 Dload  Upload   Total   Spent    Left  Speed\n",
      "100  2228    0  2228    0     0  11726      0 --:--:-- --:--:-- --:--:-- 11726\n",
      "  % Total    % Received % Xferd  Average Speed   Time    Time     Time  Current\n",
      "                                 Dload  Upload   Total   Spent    Left  Speed\n",
      "100  2228    0  2228    0     0  10868      0 --:--:-- --:--:-- --:--:-- 10868\n"
     ]
    }
   ],
   "source": [
    "%cd /content/yolor\n",
    "!bash scripts/get_pretrain.sh"
   ]
  },
  {
   "cell_type": "code",
   "execution_count": 16,
   "metadata": {},
   "outputs": [
    {
     "name": "stdout",
     "output_type": "stream",
     "text": [
      "/storage/home/vas5260/.local/lib/python3.8/site-packages/torch/cuda/__init__.py:52: UserWarning: CUDA initialization: Found no NVIDIA driver on your system. Please check that you have an NVIDIA GPU and installed a driver from http://www.nvidia.com/Download/index.aspx (Triggered internally at  /pytorch/c10/cuda/CUDAFunctions.cpp:100.)\n",
      "  return torch._C._cuda_getDeviceCount() > 0\n",
      "Traceback (most recent call last):\n",
      "  File \"train.py\", line 513, in <module>\n",
      "    device = select_device(opt.device, batch_size=opt.batch_size)\n",
      "  File \"/storage/home/v/vas5260/DS_440_Capstone/volume/data/raw/Images/yolor/utils/torch_utils.py\", line 47, in select_device\n",
      "    assert torch.cuda.is_available(), 'CUDA unavailable, invalid device %s requested' % device  # check availablity\n",
      "AssertionError: CUDA unavailable, invalid device 0 requested\n"
     ]
    }
   ],
   "source": [
    "!python train.py --batch-size 8 --img 416 416 --data '../data.yaml' --cfg cfg/yolor_p6.cfg --weights '/content/yolor/yolor_p6.pt' --device 0 --name yolor_p6 --hyp '/storage/home/v/vas5260/DS_440_Capstone/volume/data/raw/Images/yolor/data/hyp.scratch.1280.yaml' --epochs 50\n"
   ]
  },
  {
   "cell_type": "code",
   "execution_count": null,
   "metadata": {},
   "outputs": [],
   "source": []
  }
 ],
 "metadata": {
  "kernelspec": {
   "display_name": "Python 3",
   "language": "python",
   "name": "python3"
  },
  "language_info": {
   "codemirror_mode": {
    "name": "ipython",
    "version": 3
   },
   "file_extension": ".py",
   "mimetype": "text/x-python",
   "name": "python",
   "nbconvert_exporter": "python",
   "pygments_lexer": "ipython3",
   "version": "3.8.3"
  }
 },
 "nbformat": 4,
 "nbformat_minor": 4
}
