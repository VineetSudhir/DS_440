{
 "cells": [
  {
   "cell_type": "code",
   "execution_count": null,
   "metadata": {},
   "outputs": [],
   "source": [
    "import pydicom as dicom\n",
    "import os\n",
    "import cv2\n",
    "import PIL\n",
    "\n",
    "PNG = False\n",
    "\n",
    "#.dcm folder path\n",
    "folder_path = \"/storage/home/vas5260/DS_440_Capstone/volume/data/raw/Images/16\"\n",
    "\n",
    "# output folder\n",
    "jpg_folder_path = \"/storage/home/vas5260/DS_440_Capstone/volume/data/raw/Images/16-jpg\"\n",
    "\n",
    "images_path = os.listdir(folder_path)\n",
    "for n, image in enumerate(images_path):\n",
    "    ds = dicom.dcmread(os.path.join(folder_path, image))\n",
    "    pixel_array_numpy = ds.pixel_array\n",
    "    if PNG == False:\n",
    "        image = image.replace(\".dcm\", \".jpg\")\n",
    "    else:\n",
    "        image = image.replace(\".dcm\", \".jpg\")\n",
    "    cv2.imwrite(os.path.join(jpg_folder_path, image), pixel_array_numpy)\n",
    "    if n % 50 == 0:\n",
    "        print(\"{} image converted\".format(n))"
   ]
  },
  {
   "cell_type": "code",
   "execution_count": null,
   "metadata": {},
   "outputs": [],
   "source": [
    "# extract patient's information\n",
    "import pydicom as dicom\n",
    "import os\n",
    "import PIL # optional\n",
    "import pandas as pd\n",
    "import csv# list of attributes available in dicom image\n",
    "# download this file from the given github link\n",
    "dicom_image_description = pd.read_csv(\"dicom_image_description.csv\")# Specify the .dcm folder path\n",
    "folder_path = \"stage_1_test_images\"\n",
    "images_path = os.listdir(folder_path)# Patient's information will be stored in working directory #'Patient_Detail.csv'with open('Patient_Detail.csv', 'w', newline ='') as csvfile:\n",
    "    fieldnames = list(dicom_image_description[\"Description\"])\n",
    "    writer = csv.writer(csvfile, delimiter=',')\n",
    "    writer.writerow(fieldnames)\n",
    "    for n, image in enumerate(images_path):\n",
    "        ds = dicom.dcmread(os.path.join(folder_path, image))\n",
    "        rows = []\n",
    "        for field in fieldnames:\n",
    "            if ds.data_element(field) is None:\n",
    "                rows.append('')\n",
    "            else:\n",
    "                x = str(ds.data_element(field)).replace(\"'\", \"\")\n",
    "                y = x.find(\":\")\n",
    "                x = x[y+2:]\n",
    "                rows.append(x)\n",
    "        writer.writerow(rows)"
   ]
  }
 ],
 "metadata": {
  "kernelspec": {
   "display_name": "Python 3",
   "language": "python",
   "name": "python3"
  },
  "language_info": {
   "codemirror_mode": {
    "name": "ipython",
    "version": 3
   },
   "file_extension": ".py",
   "mimetype": "text/x-python",
   "name": "python",
   "nbconvert_exporter": "python",
   "pygments_lexer": "ipython3",
   "version": "3.8.3"
  }
 },
 "nbformat": 4,
 "nbformat_minor": 4
}
